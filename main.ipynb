{
 "cells": [
  {
   "cell_type": "code",
   "execution_count": 5,
   "metadata": {},
   "outputs": [],
   "source": [
    "# Import opencv\n",
    "import cv2"
   ]
  },
  {
   "cell_type": "code",
   "execution_count": 6,
   "metadata": {},
   "outputs": [],
   "source": [
    "# Create Tracker\n",
    "trackers = cv2.MultiTracker_create()"
   ]
  },
  {
   "cell_type": "code",
   "execution_count": 7,
   "metadata": {},
   "outputs": [],
   "source": [
    "# Read video\n",
    "video = cv2.VideoCapture('data/video.mp4')"
   ]
  },
  {
   "cell_type": "code",
   "execution_count": 8,
   "metadata": {},
   "outputs": [],
   "source": [
    "# Read first frame.\n",
    "ret,frame = video.read()\n",
    "frame = cv2.resize(frame,None,fx=1/3,fy=1/3)\n",
    "k = 3\n",
    "for i in range(k):\n",
    "    # Special function allows us to draw on the very first frame our desired ROI\n",
    "    roi = cv2.selectROI(frame, False)\n",
    "    tracker_1 = cv2.TrackerCSRT_create()\n",
    "    trackers.add(tracker_1,frame,roi)\n",
    "    \n",
    "while True:\n",
    "    # Read next frame\n",
    "    ret,frame = video.read()\n",
    "    \n",
    "    if not ret:\n",
    "        break\n",
    "    frame = cv2.resize(frame,None,fx=1/3,fy=1/3)\n",
    "    # Update tracker\n",
    "    success, rois = trackers.update(frame)\n",
    "    \n",
    "    \n",
    "    # Tracking success\n",
    "    for roi in rois:\n",
    "        (x,y,width,height) = tuple(map(int,roi))\n",
    "        \n",
    "        p1 = (x,y)\n",
    "        p2 = (x+width, y+height)\n",
    "        \n",
    "        cv2.rectangle(frame, p1, p2, (0,255,0), 2)\n",
    "        \n",
    "    # Display result\n",
    "    cv2.imshow(\"frame\", frame)\n",
    "    \n",
    "    # Exit if 'q' pressed\n",
    "    if cv2.waitKey(27) & 0xFF == ord('q'):\n",
    "            \n",
    "            break\n",
    "    \n",
    "        \n",
    "video.release()\n",
    "cv2.destroyAllWindows()    "
   ]
  },
  {
   "cell_type": "code",
   "execution_count": null,
   "metadata": {},
   "outputs": [],
   "source": []
  }
 ],
 "metadata": {
  "kernelspec": {
   "display_name": "Python 3",
   "language": "python",
   "name": "python3"
  },
  "language_info": {
   "codemirror_mode": {
    "name": "ipython",
    "version": 3
   },
   "file_extension": ".py",
   "mimetype": "text/x-python",
   "name": "python",
   "nbconvert_exporter": "python",
   "pygments_lexer": "ipython3",
   "version": "3.8.5"
  }
 },
 "nbformat": 4,
 "nbformat_minor": 4
}
